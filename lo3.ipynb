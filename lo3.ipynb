{
 "cells": [
  {
   "cell_type": "markdown",
   "id": "586e4e73-15f9-41d1-9ac5-672c26502ea5",
   "metadata": {},
   "source": [
    "# **Lottery Analysis**\n",
    "This notebook consist of a three-part analysis on the dataset obtained from the past decades lottery draws of the various lotteries conducted by PCSO (Philippine Charity Sweepstakes Office).\n",
    "* Part 1: Lottery Results Distribution Analysis (6/42, 6/45, 6/49, 6/55, 6/58)\n",
    "* Part 2: Analysis of the Effects of Bets Count on Draw Counts (EZ2)\n",
    "* Part 3: Winners / Winnings Descriptive Statistics\n",
    "\n",
    "#### Progress\n",
    "* 5/14/24 - Initial Part 1, Part 3\n",
    "* 5/28/24 - Update Part 3"
   ]
  },
  {
   "cell_type": "markdown",
   "id": "33cb1d63",
   "metadata": {
    "tags": []
   },
   "source": [
    "## **Part 1: Lottery Results Distribution Analysis (6/42, 6/45, 6/49, 6/55, 6/58)**\n",
    "In a lottery, a participant (or bettor) plays by selecting a number that all have same probabilities of getting drawn, which means that the numbers will follow a uniform distribution in a hypothetical infinite amount of draws. \n",
    "\n",
    "In this section, the distribution of drawn numbers during the past decade (2014-2024) for the different lotto game categories (6/42, 6/45, 6/49, 6/55, 6/58) by PCSO will be presented. \n",
    "\n",
    "Using a statistical test, it will be verified whether the draws distribution deviates from the expected uniform distribution (to which if true would imply \"unfairness\")."
   ]
  },
  {
   "cell_type": "code",
   "execution_count": 3,
   "id": "d8e5c43e",
   "metadata": {},
   "outputs": [],
   "source": [
    "import read \n",
    "from matplotlib import pyplot as plt\n",
    "from scipy.stats import ks_2samp\n",
    "import pandas as pd\n",
    "import pandasql as ps"
   ]
  },
  {
   "cell_type": "code",
   "execution_count": 4,
   "id": "f54ba30b",
   "metadata": {
    "tags": []
   },
   "outputs": [],
   "source": [
    "DATA_URL = 'drawresults.htm'\n",
    "\n",
    "df = read.getData(DATA_URL)"
   ]
  },
  {
   "cell_type": "code",
   "execution_count": 5,
   "id": "f8887470",
   "metadata": {},
   "outputs": [
    {
     "data": {
      "text/html": [
       "<div>\n",
       "<style scoped>\n",
       "    .dataframe tbody tr th:only-of-type {\n",
       "        vertical-align: middle;\n",
       "    }\n",
       "\n",
       "    .dataframe tbody tr th {\n",
       "        vertical-align: top;\n",
       "    }\n",
       "\n",
       "    .dataframe thead th {\n",
       "        text-align: right;\n",
       "    }\n",
       "</style>\n",
       "<table border=\"1\" class=\"dataframe\">\n",
       "  <thead>\n",
       "    <tr style=\"text-align: right;\">\n",
       "      <th></th>\n",
       "      <th>LOTTO GAME</th>\n",
       "      <th>COMBINATIONS</th>\n",
       "      <th>DRAW DATE</th>\n",
       "      <th>JACKPOT (PHP)</th>\n",
       "      <th>WINNERS</th>\n",
       "    </tr>\n",
       "  </thead>\n",
       "  <tbody>\n",
       "    <tr>\n",
       "      <th>0</th>\n",
       "      <td>Grand Lotto 6/55</td>\n",
       "      <td>[46, 1, 6, 40, 27, 35]</td>\n",
       "      <td>2024-04-20</td>\n",
       "      <td>29700000.0</td>\n",
       "      <td>0</td>\n",
       "    </tr>\n",
       "    <tr>\n",
       "      <th>1</th>\n",
       "      <td>Lotto 6/42</td>\n",
       "      <td>[26, 39, 40, 31, 29, 14]</td>\n",
       "      <td>2024-04-20</td>\n",
       "      <td>17325372.2</td>\n",
       "      <td>0</td>\n",
       "    </tr>\n",
       "    <tr>\n",
       "      <th>2</th>\n",
       "      <td>6D Lotto</td>\n",
       "      <td>[8, 7, 7, 6, 0, 2]</td>\n",
       "      <td>2024-04-20</td>\n",
       "      <td>2159727.0</td>\n",
       "      <td>1</td>\n",
       "    </tr>\n",
       "    <tr>\n",
       "      <th>3</th>\n",
       "      <td>3D Lotto 2PM</td>\n",
       "      <td>[5, 9, 7]</td>\n",
       "      <td>2024-04-20</td>\n",
       "      <td>4500.0</td>\n",
       "      <td>201</td>\n",
       "    </tr>\n",
       "    <tr>\n",
       "      <th>4</th>\n",
       "      <td>3D Lotto 5PM</td>\n",
       "      <td>[1, 4, 2]</td>\n",
       "      <td>2024-04-20</td>\n",
       "      <td>4500.0</td>\n",
       "      <td>137</td>\n",
       "    </tr>\n",
       "  </tbody>\n",
       "</table>\n",
       "</div>"
      ],
      "text/plain": [
       "         LOTTO GAME              COMBINATIONS  DRAW DATE  JACKPOT (PHP)  \\\n",
       "0  Grand Lotto 6/55    [46, 1, 6, 40, 27, 35] 2024-04-20     29700000.0   \n",
       "1        Lotto 6/42  [26, 39, 40, 31, 29, 14] 2024-04-20     17325372.2   \n",
       "2          6D Lotto        [8, 7, 7, 6, 0, 2] 2024-04-20      2159727.0   \n",
       "3      3D Lotto 2PM                 [5, 9, 7] 2024-04-20         4500.0   \n",
       "4      3D Lotto 5PM                 [1, 4, 2] 2024-04-20         4500.0   \n",
       "\n",
       "   WINNERS  \n",
       "0        0  \n",
       "1        0  \n",
       "2        1  \n",
       "3      201  \n",
       "4      137  "
      ]
     },
     "execution_count": 5,
     "metadata": {},
     "output_type": "execute_result"
    }
   ],
   "source": [
    "df[0:5] # First 5 rows"
   ]
  },
  {
   "cell_type": "code",
   "execution_count": 6,
   "id": "6173d3c2",
   "metadata": {},
   "outputs": [
    {
     "data": {
      "text/plain": [
       "LOTTO GAME\n",
       "3D Lotto 2PM        3549\n",
       "2D Lotto 2PM        3549\n",
       "3D Lotto 5PM        3548\n",
       "3D Lotto 9PM        3548\n",
       "2D Lotto 5PM        3548\n",
       "2D Lotto 9PM        3548\n",
       "Grand Lotto 6/55    1541\n",
       "Megalotto 6/45      1539\n",
       "Lotto 6/42          1535\n",
       "Superlotto 6/49     1530\n",
       "4D Lotto            1475\n",
       "6D Lotto            1469\n",
       "Ultra Lotto 6/58    1254\n",
       "Name: count, dtype: int64"
      ]
     },
     "execution_count": 6,
     "metadata": {},
     "output_type": "execute_result"
    }
   ],
   "source": [
    "df['LOTTO GAME'].value_counts(ascending=False)"
   ]
  },
  {
   "cell_type": "code",
   "execution_count": 7,
   "id": "eabd20a8",
   "metadata": {},
   "outputs": [],
   "source": [
    "# Obtained pooled drawn numbers\n",
    "numbers42 = read.poolCombination(df[df['LOTTO GAME'] == 'Lotto 6/42']['COMBINATIONS'])\n",
    "numbers45 = read.poolCombination(df[df['LOTTO GAME'] == 'Megalotto 6/45']['COMBINATIONS'])\n",
    "numbers49 = read.poolCombination(df[df['LOTTO GAME'] == 'Superlotto 6/49']['COMBINATIONS'])\n",
    "numbers55 = read.poolCombination(df[df['LOTTO GAME'] == 'Grand Lotto 6/55']['COMBINATIONS'])\n",
    "numbers58 = read.poolCombination(df[df['LOTTO GAME'] == 'Ultra Lotto 6/58']['COMBINATIONS'])"
   ]
  },
  {
   "cell_type": "code",
   "execution_count": 8,
   "id": "621a6ef0",
   "metadata": {},
   "outputs": [
    {
     "data": {
      "image/png": "[encoded data removed]",
      "text/plain": [
       "<Figure size 640x480 with 1 Axes>"
      ]
     },
     "metadata": {},
     "output_type": "display_data"
    },
    {
     "data": {
      "image/png": "[encoded data removed]",
      "text/plain": [
       "<Figure size 640x480 with 1 Axes>"
      ]
     },
     "metadata": {},
     "output_type": "display_data"
    }
   ],
   "source": [
    "# Plot distribution 6/42, 6/45\n",
    "read.createHist(numbers42, 42, 'Lotto 6/42')\n",
    "read.createHist(numbers45, 45, 'Megalotto 6/45')"
   ]
  },
  {
   "cell_type": "code",
   "execution_count": 9,
   "id": "87cc0d0f",
   "metadata": {},
   "outputs": [
    {
     "data": {
      "image/png": "[encoded data removed]",
      "text/plain": [
       "<Figure size 640x480 with 1 Axes>"
      ]
     },
     "metadata": {},
     "output_type": "display_data"
    },
    {
     "data": {
      "image/png": "[encoded data removed]",
      "text/plain": [
       "<Figure size 640x480 with 1 Axes>"
      ]
     },
     "metadata": {},
     "output_type": "display_data"
    }
   ],
   "source": [
    "# Plot distribution 6/49, 6/55\n",
    "read.createHist(numbers49, 49, 'Superlotto 6/49')\n",
    "read.createHist(numbers55, 55, 'Grand Lotto 6/55')"
   ]
  },
  {
   "cell_type": "code",
   "execution_count": 10,
   "id": "a21673c4",
   "metadata": {},
   "outputs": [
    {
     "data": {
      "image/png": "[encoded data removed]",
      "text/plain": [
       "<Figure size 640x480 with 1 Axes>"
      ]
     },
     "metadata": {},
     "output_type": "display_data"
    }
   ],
   "source": [
    "# Plot distribution 6/58\n",
    "read.createHist(numbers58, 58, 'Ultra Lotto 6/58')"
   ]
  },
  {
   "cell_type": "code",
   "execution_count": 11,
   "id": "e9a12f5f",
   "metadata": {},
   "outputs": [],
   "source": [
    "# Create uniform dataset for 6/55\n",
    "numbers55uniform = read.createUniformData(numbers55, 55)"
   ]
  },
  {
   "cell_type": "code",
   "execution_count": 12,
   "id": "45ae1d1f",
   "metadata": {},
   "outputs": [
    {
     "data": {
      "image/png": "[encoded data removed]",
      "text/plain": [
       "<Figure size 640x480 with 1 Axes>"
      ]
     },
     "metadata": {},
     "output_type": "display_data"
    }
   ],
   "source": [
    "# Plot hypothetical uniform 6/55 distribution\n",
    "read.createHist(numbers55uniform, 55, 'Grand Lotto 6/55 (Uniform)')"
   ]
  },
  {
   "cell_type": "code",
   "execution_count": 13,
   "id": "a154a687",
   "metadata": {},
   "outputs": [
    {
     "name": "stdout",
     "output_type": "stream",
     "text": [
      "Tstatistic: 0.004837472715474013\n",
      "P-value: 0.9998924157943627\n"
     ]
    }
   ],
   "source": [
    "# Perform Kolmogorov-Smirnov test\n",
    "\n",
    "\"\"\"\n",
    "This test is used to compare 2 distributions if they come from the same underlying distribution.\n",
    "Test statistic: max value of the difference between dataset A and B's CDF\n",
    "\n",
    "Null hypothesis: both dataset come from the same distribution\n",
    "\"\"\"\n",
    "\n",
    "ksr55 = ks_2samp(numbers55uniform, numbers55)\n",
    "\n",
    "print(f\"Tstatistic: {ksr55[0]}\")\n",
    "print(f\"P-value: {ksr55[1]}\")"
   ]
  },
  {
   "cell_type": "markdown",
   "id": "dc8dea52",
   "metadata": {},
   "source": [
    "## Test Interpretation (for 6/55)\n",
    "Since the test statistic is small implying little deviation from the theoreticcal distribution (p value is close to 1), using a level of significance of .05 *(probability of rejecting a true null hypothesis / Type 1 Error)* we cannot reject the null hypothesis. Also, since the pvalue is very close to 1, it suggests that the two dataset is likely from the same distribution and any difference is just due to chance / randomness."
   ]
  },
  {
   "cell_type": "code",
   "execution_count": 15,
   "id": "59d859d8",
   "metadata": {},
   "outputs": [],
   "source": [
    "# Testing for other lottery types\n",
    "\n",
    "# Creating uniform dataset\n",
    "numbers42uniform = read.createUniformData(numbers42, 42)\n",
    "numbers45uniform = read.createUniformData(numbers45, 45)\n",
    "numbers49uniform = read.createUniformData(numbers49, 49)\n",
    "numbers58uniform = read.createUniformData(numbers58, 58)\n",
    "\n",
    "# Perform Kolmogorov-Smirnov test\n",
    "ksr42 = ks_2samp(numbers42uniform, numbers42)\n",
    "ksr45 = ks_2samp(numbers45uniform, numbers45)\n",
    "ksr49 = ks_2samp(numbers49uniform, numbers49)\n",
    "ksr58 = ks_2samp(numbers58uniform, numbers58)"
   ]
  },
  {
   "cell_type": "code",
   "execution_count": 16,
   "id": "db5950f5",
   "metadata": {},
   "outputs": [
    {
     "data": {
      "text/html": [
       "<div>\n",
       "<style scoped>\n",
       "    .dataframe tbody tr th:only-of-type {\n",
       "        vertical-align: middle;\n",
       "    }\n",
       "\n",
       "    .dataframe tbody tr th {\n",
       "        vertical-align: top;\n",
       "    }\n",
       "\n",
       "    .dataframe thead th {\n",
       "        text-align: right;\n",
       "    }\n",
       "</style>\n",
       "<table border=\"1\" class=\"dataframe\">\n",
       "  <thead>\n",
       "    <tr style=\"text-align: right;\">\n",
       "      <th></th>\n",
       "      <th>type</th>\n",
       "      <th>tstatistic</th>\n",
       "      <th>p-value</th>\n",
       "    </tr>\n",
       "  </thead>\n",
       "  <tbody>\n",
       "    <tr>\n",
       "      <th>0</th>\n",
       "      <td>Lotto 6/42</td>\n",
       "      <td>0.004529</td>\n",
       "      <td>0.999977</td>\n",
       "    </tr>\n",
       "    <tr>\n",
       "      <th>1</th>\n",
       "      <td>Megalotto 6/45</td>\n",
       "      <td>0.006736</td>\n",
       "      <td>0.983565</td>\n",
       "    </tr>\n",
       "    <tr>\n",
       "      <th>2</th>\n",
       "      <td>Superlotto 6/49</td>\n",
       "      <td>0.009408</td>\n",
       "      <td>0.806255</td>\n",
       "    </tr>\n",
       "    <tr>\n",
       "      <th>3</th>\n",
       "      <td>Grand Lotto 6/55</td>\n",
       "      <td>0.004837</td>\n",
       "      <td>0.999892</td>\n",
       "    </tr>\n",
       "    <tr>\n",
       "      <th>4</th>\n",
       "      <td>Ultra Lotto 6/58</td>\n",
       "      <td>0.015161</td>\n",
       "      <td>0.347082</td>\n",
       "    </tr>\n",
       "  </tbody>\n",
       "</table>\n",
       "</div>"
      ],
      "text/plain": [
       "               type  tstatistic   p-value\n",
       "0        Lotto 6/42    0.004529  0.999977\n",
       "1    Megalotto 6/45    0.006736  0.983565\n",
       "2   Superlotto 6/49    0.009408  0.806255\n",
       "3  Grand Lotto 6/55    0.004837  0.999892\n",
       "4  Ultra Lotto 6/58    0.015161  0.347082"
      ]
     },
     "execution_count": 16,
     "metadata": {},
     "output_type": "execute_result"
    }
   ],
   "source": [
    "# Tabulating Kolmogorov-Smirnov test results\n",
    "lotteryTypes = ['Lotto 6/42','Megalotto 6/45','Superlotto 6/49','Grand Lotto 6/55','Ultra Lotto 6/58']\n",
    "tstats = [ksr42[0], ksr45[0], ksr49[0], ksr55[0], ksr58[0]]\n",
    "pvals = [ksr42[1], ksr45[1], ksr49[1], ksr55[1], ksr58[1]]\n",
    "\n",
    "dict = {'type': lotteryTypes, 'tstatistic': tstats, 'p-value': pvals}\n",
    "table = pd.DataFrame(dict)\n",
    "\n",
    "table"
   ]
  },
  {
   "cell_type": "markdown",
   "id": "3af4870f",
   "metadata": {
    "tags": []
   },
   "source": [
    "## Test Interpretation (Overall)\n",
    "None of the lottery type is found to have a p-value less than .05, which means that we could not reject the null hypothesis that the dataset comes from a uniform distribution. We therefore cannot conclude that the lottery results deviate from the expected uniform distribution (no signs of unfairness)."
   ]
  },
  {
   "cell_type": "markdown",
   "id": "f5e3c74f-6531-44f4-bf2a-ea926e68a59a",
   "metadata": {},
   "source": [
    "## **Part 2: Analysis of the Effects of Bets Count on Draw Counts (EZ2)**\n",
    "In this section, the distribution of draw counts as it relates to the number of bets will be investigated."
   ]
  },
  {
   "cell_type": "code",
   "execution_count": null,
   "id": "1eae1f0c-49a4-4ba0-8e37-dd1d7ce74f04",
   "metadata": {},
   "outputs": [],
   "source": []
  },
  {
   "cell_type": "markdown",
   "id": "872bb656-dc66-4811-a62a-584f2d95bf58",
   "metadata": {},
   "source": [
    "## **Part 3: Winners / Winnings Descriptive Statistics**\n",
    "In this section, some questions pertaining to winners and winnings will be answered."
   ]
  },
  {
   "cell_type": "code",
   "execution_count": 20,
   "id": "3f2e2934",
   "metadata": {},
   "outputs": [],
   "source": [
    "# Preprocessing for SQL queries in Part 3\n",
    "\n",
    "# Renaming Jackpot (for simpler querying)\n",
    "df.rename(columns = {'JACKPOT (PHP)':'JACKPOT'}, inplace = True)\n",
    "\n",
    "# Drop 'COMBINATIONS' column to avoid pandaSQL querying error (List is an unsupported type)\n",
    "df = df.drop(['COMBINATIONS'], axis=1) \n",
    "\n",
    "# Convert winners to floating (for operations in SQL queries)\n",
    "df['WINNERS'] = df['WINNERS'].astype(float)"
   ]
  },
  {
   "cell_type": "markdown",
   "id": "616d7867-dd82-4090-b630-375be321bfa2",
   "metadata": {},
   "source": [
    "### **Q1: How many total winners (per Lotto Type)?**"
   ]
  },
  {
   "cell_type": "code",
   "execution_count": 22,
   "id": "dda7c978-0d3e-4599-b639-846ee26bfcbf",
   "metadata": {},
   "outputs": [
    {
     "data": {
      "text/html": [
       "<div>\n",
       "<style scoped>\n",
       "    .dataframe tbody tr th:only-of-type {\n",
       "        vertical-align: middle;\n",
       "    }\n",
       "\n",
       "    .dataframe tbody tr th {\n",
       "        vertical-align: top;\n",
       "    }\n",
       "\n",
       "    .dataframe thead th {\n",
       "        text-align: right;\n",
       "    }\n",
       "</style>\n",
       "<table border=\"1\" class=\"dataframe\">\n",
       "  <thead>\n",
       "    <tr style=\"text-align: right;\">\n",
       "      <th></th>\n",
       "      <th>LOTTO GAME</th>\n",
       "      <th>TOTAL WINNERS</th>\n",
       "    </tr>\n",
       "  </thead>\n",
       "  <tbody>\n",
       "    <tr>\n",
       "      <th>0</th>\n",
       "      <td>2D Lotto 2PM</td>\n",
       "      <td>702342</td>\n",
       "    </tr>\n",
       "    <tr>\n",
       "      <th>1</th>\n",
       "      <td>2D Lotto 5PM</td>\n",
       "      <td>616019</td>\n",
       "    </tr>\n",
       "    <tr>\n",
       "      <th>2</th>\n",
       "      <td>2D Lotto 9PM</td>\n",
       "      <td>1455648</td>\n",
       "    </tr>\n",
       "    <tr>\n",
       "      <th>3</th>\n",
       "      <td>3D Lotto 2PM</td>\n",
       "      <td>1562884</td>\n",
       "    </tr>\n",
       "    <tr>\n",
       "      <th>4</th>\n",
       "      <td>3D Lotto 5PM</td>\n",
       "      <td>1411507</td>\n",
       "    </tr>\n",
       "    <tr>\n",
       "      <th>5</th>\n",
       "      <td>3D Lotto 9PM</td>\n",
       "      <td>2178902</td>\n",
       "    </tr>\n",
       "    <tr>\n",
       "      <th>6</th>\n",
       "      <td>4D Lotto</td>\n",
       "      <td>44636</td>\n",
       "    </tr>\n",
       "    <tr>\n",
       "      <th>7</th>\n",
       "      <td>6D Lotto</td>\n",
       "      <td>244</td>\n",
       "    </tr>\n",
       "    <tr>\n",
       "      <th>8</th>\n",
       "      <td>Grand Lotto 6/55</td>\n",
       "      <td>507</td>\n",
       "    </tr>\n",
       "    <tr>\n",
       "      <th>9</th>\n",
       "      <td>Lotto 6/42</td>\n",
       "      <td>229</td>\n",
       "    </tr>\n",
       "    <tr>\n",
       "      <th>10</th>\n",
       "      <td>Megalotto 6/45</td>\n",
       "      <td>176</td>\n",
       "    </tr>\n",
       "    <tr>\n",
       "      <th>11</th>\n",
       "      <td>Superlotto 6/49</td>\n",
       "      <td>109</td>\n",
       "    </tr>\n",
       "    <tr>\n",
       "      <th>12</th>\n",
       "      <td>Ultra Lotto 6/58</td>\n",
       "      <td>43</td>\n",
       "    </tr>\n",
       "  </tbody>\n",
       "</table>\n",
       "</div>"
      ],
      "text/plain": [
       "          LOTTO GAME  TOTAL WINNERS\n",
       "0       2D Lotto 2PM         702342\n",
       "1       2D Lotto 5PM         616019\n",
       "2       2D Lotto 9PM        1455648\n",
       "3       3D Lotto 2PM        1562884\n",
       "4       3D Lotto 5PM        1411507\n",
       "5       3D Lotto 9PM        2178902\n",
       "6           4D Lotto          44636\n",
       "7           6D Lotto            244\n",
       "8   Grand Lotto 6/55            507\n",
       "9         Lotto 6/42            229\n",
       "10    Megalotto 6/45            176\n",
       "11   Superlotto 6/49            109\n",
       "12  Ultra Lotto 6/58             43"
      ]
     },
     "execution_count": 22,
     "metadata": {},
     "output_type": "execute_result"
    }
   ],
   "source": [
    "# How many total winners (per Lotto Type)\n",
    "query = \"\"\"SELECT [LOTTO GAME], CAST(SUM(WINNERS) AS INT) AS 'TOTAL WINNERS' FROM df \n",
    "         GROUP BY [LOTTO GAME] \"\"\"\n",
    "df1 = ps.sqldf(query,locals())\n",
    "df1"
   ]
  },
  {
   "cell_type": "markdown",
   "id": "9d6880eb-4f18-4ae7-bb7c-f402275f67f8",
   "metadata": {},
   "source": [
    "2D/3D/4D Lotto as expected have more total winners compared to 6 digit lotto types (6/42, 6/45, 6/49, 6/55/, 6/58). Also as expected, the 6 digit lotto types tend to have a decreasing winner count as the denominator or total number being drawn increases except for 6/55 which has an increase in winner count compared to 6/49."
   ]
  },
  {
   "cell_type": "markdown",
   "id": "1d083a82-ddb1-44b1-b12e-71305a4bddf2",
   "metadata": {},
   "source": [
    "### **Q2: How many winners per game (per Lotto Type)?**"
   ]
  },
  {
   "cell_type": "code",
   "execution_count": 25,
   "id": "1f524364-c6bf-44e2-a6e2-8f6baec9d74d",
   "metadata": {},
   "outputs": [
    {
     "data": {
      "text/html": [
       "<div>\n",
       "<style scoped>\n",
       "    .dataframe tbody tr th:only-of-type {\n",
       "        vertical-align: middle;\n",
       "    }\n",
       "\n",
       "    .dataframe tbody tr th {\n",
       "        vertical-align: top;\n",
       "    }\n",
       "\n",
       "    .dataframe thead th {\n",
       "        text-align: right;\n",
       "    }\n",
       "</style>\n",
       "<table border=\"1\" class=\"dataframe\">\n",
       "  <thead>\n",
       "    <tr style=\"text-align: right;\">\n",
       "      <th></th>\n",
       "      <th>LOTTO GAME</th>\n",
       "      <th>WINNERS PER GAME</th>\n",
       "    </tr>\n",
       "  </thead>\n",
       "  <tbody>\n",
       "    <tr>\n",
       "      <th>0</th>\n",
       "      <td>2D Lotto 2PM</td>\n",
       "      <td>197.899</td>\n",
       "    </tr>\n",
       "    <tr>\n",
       "      <th>1</th>\n",
       "      <td>2D Lotto 5PM</td>\n",
       "      <td>173.624</td>\n",
       "    </tr>\n",
       "    <tr>\n",
       "      <th>2</th>\n",
       "      <td>2D Lotto 9PM</td>\n",
       "      <td>410.273</td>\n",
       "    </tr>\n",
       "    <tr>\n",
       "      <th>3</th>\n",
       "      <td>3D Lotto 2PM</td>\n",
       "      <td>440.373</td>\n",
       "    </tr>\n",
       "    <tr>\n",
       "      <th>4</th>\n",
       "      <td>3D Lotto 5PM</td>\n",
       "      <td>397.832</td>\n",
       "    </tr>\n",
       "    <tr>\n",
       "      <th>5</th>\n",
       "      <td>3D Lotto 9PM</td>\n",
       "      <td>614.121</td>\n",
       "    </tr>\n",
       "    <tr>\n",
       "      <th>6</th>\n",
       "      <td>4D Lotto</td>\n",
       "      <td>30.262</td>\n",
       "    </tr>\n",
       "    <tr>\n",
       "      <th>7</th>\n",
       "      <td>6D Lotto</td>\n",
       "      <td>0.166</td>\n",
       "    </tr>\n",
       "    <tr>\n",
       "      <th>8</th>\n",
       "      <td>Grand Lotto 6/55</td>\n",
       "      <td>0.329</td>\n",
       "    </tr>\n",
       "    <tr>\n",
       "      <th>9</th>\n",
       "      <td>Lotto 6/42</td>\n",
       "      <td>0.149</td>\n",
       "    </tr>\n",
       "    <tr>\n",
       "      <th>10</th>\n",
       "      <td>Megalotto 6/45</td>\n",
       "      <td>0.114</td>\n",
       "    </tr>\n",
       "    <tr>\n",
       "      <th>11</th>\n",
       "      <td>Superlotto 6/49</td>\n",
       "      <td>0.071</td>\n",
       "    </tr>\n",
       "    <tr>\n",
       "      <th>12</th>\n",
       "      <td>Ultra Lotto 6/58</td>\n",
       "      <td>0.034</td>\n",
       "    </tr>\n",
       "  </tbody>\n",
       "</table>\n",
       "</div>"
      ],
      "text/plain": [
       "          LOTTO GAME  WINNERS PER GAME\n",
       "0       2D Lotto 2PM           197.899\n",
       "1       2D Lotto 5PM           173.624\n",
       "2       2D Lotto 9PM           410.273\n",
       "3       3D Lotto 2PM           440.373\n",
       "4       3D Lotto 5PM           397.832\n",
       "5       3D Lotto 9PM           614.121\n",
       "6           4D Lotto            30.262\n",
       "7           6D Lotto             0.166\n",
       "8   Grand Lotto 6/55             0.329\n",
       "9         Lotto 6/42             0.149\n",
       "10    Megalotto 6/45             0.114\n",
       "11   Superlotto 6/49             0.071\n",
       "12  Ultra Lotto 6/58             0.034"
      ]
     },
     "execution_count": 25,
     "metadata": {},
     "output_type": "execute_result"
    }
   ],
   "source": [
    "# How many winners per game (per Lotto Type)\n",
    "\n",
    "# SubQuery: How many total winners (per Lotto Type) - same query as previous cell (but without casting SUM as INT)\n",
    "query1 = \"\"\"SELECT [LOTTO GAME], SUM(WINNERS) AS 'TOTAL WINNERS' FROM df \n",
    "            GROUP BY [LOTTO GAME] \"\"\"\n",
    "# SubQuery: How many total game (per Lotto Type) - same as previous\n",
    "query2 = \"\"\" SELECT [LOTTO GAME], COUNT([LOTTO GAME]) AS 'TOTAL GAMES' FROM df \n",
    "            GROUP BY [LOTTO GAME]\"\"\"\n",
    "df1 = ps.sqldf(query1,locals())\n",
    "df2 = ps.sqldf(query2,locals())\n",
    "\n",
    "# Main query\n",
    "query3 = \"\"\" SELECT df1.[LOTTO GAME], ROUND([TOTAL WINNERS]/[TOTAL GAMES],3) AS 'WINNERS PER GAME' FROM df1\n",
    "            JOIN df2 ON df1.[LOTTO GAME] = df2.[LOTTO GAME]\n",
    "        \"\"\"\n",
    "df3 = ps.sqldf(query3,locals())\n",
    "df3"
   ]
  },
  {
   "cell_type": "markdown",
   "id": "1a21b963-2dc3-49e4-b3cb-aa3b0895a2f7",
   "metadata": {},
   "source": [
    "It can be observed that 3D Lotto has more winners per game than 2D Lotto (which could be associated with number of bets placed or difference in probability of getting a draw). Also it can be observed that, 6 digit lotto types has a decreasing trend, except for 6/55 which has an increase from 6/49."
   ]
  },
  {
   "cell_type": "markdown",
   "id": "c762bdb6-cb79-4996-b590-617410751e44",
   "metadata": {},
   "source": [
    "### **Q3: What is the historical maximum prize per lotto type?**"
   ]
  },
  {
   "cell_type": "code",
   "execution_count": 28,
   "id": "fe860bba-b770-4009-87e8-5606f70a171b",
   "metadata": {},
   "outputs": [
    {
     "data": {
      "text/html": [
       "<div>\n",
       "<style scoped>\n",
       "    .dataframe tbody tr th:only-of-type {\n",
       "        vertical-align: middle;\n",
       "    }\n",
       "\n",
       "    .dataframe tbody tr th {\n",
       "        vertical-align: top;\n",
       "    }\n",
       "\n",
       "    .dataframe thead th {\n",
       "        text-align: right;\n",
       "    }\n",
       "</style>\n",
       "<table border=\"1\" class=\"dataframe\">\n",
       "  <thead>\n",
       "    <tr style=\"text-align: right;\">\n",
       "      <th></th>\n",
       "      <th>LOTTO GAME</th>\n",
       "      <th>MAX(JACKPOT)</th>\n",
       "    </tr>\n",
       "  </thead>\n",
       "  <tbody>\n",
       "    <tr>\n",
       "      <th>0</th>\n",
       "      <td>2D Lotto 2PM</td>\n",
       "      <td>4000</td>\n",
       "    </tr>\n",
       "    <tr>\n",
       "      <th>1</th>\n",
       "      <td>2D Lotto 5PM</td>\n",
       "      <td>4000</td>\n",
       "    </tr>\n",
       "    <tr>\n",
       "      <th>2</th>\n",
       "      <td>2D Lotto 9PM</td>\n",
       "      <td>4000</td>\n",
       "    </tr>\n",
       "    <tr>\n",
       "      <th>3</th>\n",
       "      <td>3D Lotto 2PM</td>\n",
       "      <td>4500</td>\n",
       "    </tr>\n",
       "    <tr>\n",
       "      <th>4</th>\n",
       "      <td>3D Lotto 5PM</td>\n",
       "      <td>4500</td>\n",
       "    </tr>\n",
       "    <tr>\n",
       "      <th>5</th>\n",
       "      <td>3D Lotto 9PM</td>\n",
       "      <td>4500</td>\n",
       "    </tr>\n",
       "    <tr>\n",
       "      <th>6</th>\n",
       "      <td>4D Lotto</td>\n",
       "      <td>494575</td>\n",
       "    </tr>\n",
       "    <tr>\n",
       "      <th>7</th>\n",
       "      <td>6D Lotto</td>\n",
       "      <td>13725184</td>\n",
       "    </tr>\n",
       "    <tr>\n",
       "      <th>8</th>\n",
       "      <td>Grand Lotto 6/55</td>\n",
       "      <td>698806269</td>\n",
       "    </tr>\n",
       "    <tr>\n",
       "      <th>9</th>\n",
       "      <td>Lotto 6/42</td>\n",
       "      <td>111998556</td>\n",
       "    </tr>\n",
       "    <tr>\n",
       "      <th>10</th>\n",
       "      <td>Megalotto 6/45</td>\n",
       "      <td>225248638</td>\n",
       "    </tr>\n",
       "    <tr>\n",
       "      <th>11</th>\n",
       "      <td>Superlotto 6/49</td>\n",
       "      <td>640654818</td>\n",
       "    </tr>\n",
       "    <tr>\n",
       "      <th>12</th>\n",
       "      <td>Ultra Lotto 6/58</td>\n",
       "      <td>1180622508</td>\n",
       "    </tr>\n",
       "  </tbody>\n",
       "</table>\n",
       "</div>"
      ],
      "text/plain": [
       "          LOTTO GAME  MAX(JACKPOT)\n",
       "0       2D Lotto 2PM          4000\n",
       "1       2D Lotto 5PM          4000\n",
       "2       2D Lotto 9PM          4000\n",
       "3       3D Lotto 2PM          4500\n",
       "4       3D Lotto 5PM          4500\n",
       "5       3D Lotto 9PM          4500\n",
       "6           4D Lotto        494575\n",
       "7           6D Lotto      13725184\n",
       "8   Grand Lotto 6/55     698806269\n",
       "9         Lotto 6/42     111998556\n",
       "10    Megalotto 6/45     225248638\n",
       "11   Superlotto 6/49     640654818\n",
       "12  Ultra Lotto 6/58    1180622508"
      ]
     },
     "execution_count": 28,
     "metadata": {},
     "output_type": "execute_result"
    }
   ],
   "source": [
    "# Maximum prize per lotto type\n",
    "query = \"\"\" SELECT [LOTTO GAME], MAX(JACKPOT) FROM df\n",
    "            GROUP BY [LOTTO GAME]\n",
    "        \"\"\"\n",
    "df1 = ps.sqldf(query,locals())\n",
    "pd.options.display.float_format = '{:.0f}'.format\n",
    "df1"
   ]
  },
  {
   "cell_type": "markdown",
   "id": "b2e0cbe6-a5fd-45b7-8a79-e9aef6f23d15",
   "metadata": {},
   "source": [
    "There's an increasing trend in max jackpot for 6 digit lotto type. For 6/58, it even reached the billionth peso mark which was won October 14 2018, split by 2 lucky winners."
   ]
  },
  {
   "cell_type": "markdown",
   "id": "7659e915-c76a-4579-a3ff-dfff7872b1d8",
   "metadata": {},
   "source": [
    "### **Q4: What is the average winning per winners? (6/42, 6/45, 6/49, 6/55, 6/58)**"
   ]
  },
  {
   "cell_type": "code",
   "execution_count": 31,
   "id": "1384961a-3883-4f14-8093-3fc7f09c124f",
   "metadata": {},
   "outputs": [
    {
     "data": {
      "text/html": [
       "<div>\n",
       "<style scoped>\n",
       "    .dataframe tbody tr th:only-of-type {\n",
       "        vertical-align: middle;\n",
       "    }\n",
       "\n",
       "    .dataframe tbody tr th {\n",
       "        vertical-align: top;\n",
       "    }\n",
       "\n",
       "    .dataframe thead th {\n",
       "        text-align: right;\n",
       "    }\n",
       "</style>\n",
       "<table border=\"1\" class=\"dataframe\">\n",
       "  <thead>\n",
       "    <tr style=\"text-align: right;\">\n",
       "      <th></th>\n",
       "      <th>LOTTO GAME</th>\n",
       "      <th>AVERAGE PRIZE PER WINNER</th>\n",
       "    </tr>\n",
       "  </thead>\n",
       "  <tbody>\n",
       "    <tr>\n",
       "      <th>0</th>\n",
       "      <td>Grand Lotto 6/55</td>\n",
       "      <td>14659055</td>\n",
       "    </tr>\n",
       "    <tr>\n",
       "      <th>1</th>\n",
       "      <td>Lotto 6/42</td>\n",
       "      <td>21978422</td>\n",
       "    </tr>\n",
       "    <tr>\n",
       "      <th>2</th>\n",
       "      <td>Megalotto 6/45</td>\n",
       "      <td>35520447</td>\n",
       "    </tr>\n",
       "    <tr>\n",
       "      <th>3</th>\n",
       "      <td>Superlotto 6/49</td>\n",
       "      <td>62180742</td>\n",
       "    </tr>\n",
       "    <tr>\n",
       "      <th>4</th>\n",
       "      <td>Ultra Lotto 6/58</td>\n",
       "      <td>159100429</td>\n",
       "    </tr>\n",
       "  </tbody>\n",
       "</table>\n",
       "</div>"
      ],
      "text/plain": [
       "         LOTTO GAME  AVERAGE PRIZE PER WINNER\n",
       "0  Grand Lotto 6/55                  14659055\n",
       "1        Lotto 6/42                  21978422\n",
       "2    Megalotto 6/45                  35520447\n",
       "3   Superlotto 6/49                  62180742\n",
       "4  Ultra Lotto 6/58                 159100429"
      ]
     },
     "execution_count": 31,
     "metadata": {},
     "output_type": "execute_result"
    }
   ],
   "source": [
    "# Average winning per winners \n",
    "query = \"\"\" SELECT [LOTTO GAME], SUM(JACKPOT)/SUM(WINNERS) AS \"AVERAGE PRIZE PER WINNER\"\n",
    "            FROM df\n",
    "            WHERE WINNERS > 0\n",
    "            AND [LOTTO GAME] IN \n",
    "            ('Grand Lotto 6/55','Lotto 6/42','Megalotto 6/45',\n",
    "            'Superlotto 6/49','Ultra Lotto 6/58')\n",
    "            GROUP BY [LOTTO GAME]\n",
    "        \"\"\"\n",
    "df1 = ps.sqldf(query,locals())\n",
    "df1"
   ]
  },
  {
   "cell_type": "markdown",
   "id": "165f7198-3f17-4de1-9327-7bfd8fd433bc",
   "metadata": {},
   "source": [
    "It can be observed that the lowest average prize is from the 6/55 Lotto. The reason for this is not due to the prize but due to the amount of winners (which will be answered in the next question)."
   ]
  },
  {
   "cell_type": "markdown",
   "id": "e3c60489-efd6-4a88-8cbd-0f7617c29898",
   "metadata": {},
   "source": [
    "### **Q5: How many lottery winners per year? (per Lotto Type)**"
   ]
  },
  {
   "cell_type": "code",
   "execution_count": 34,
   "id": "c112a316-d37d-4e40-9711-807ab6c48f13",
   "metadata": {},
   "outputs": [
    {
     "name": "stdout",
     "output_type": "stream",
     "text": [
      "DRAW DATE  LOTTO GAME      \n",
      "2014       2D Lotto 2PM        63607\n",
      "           2D Lotto 5PM        59612\n",
      "           2D Lotto 9PM       146613\n",
      "           3D Lotto 2PM       201123\n",
      "           3D Lotto 5PM       198190\n",
      "           3D Lotto 9PM       284736\n",
      "           4D Lotto             5295\n",
      "           6D Lotto               21\n",
      "           Grand Lotto 6/55        7\n",
      "           Lotto 6/42             28\n",
      "           Megalotto 6/45         20\n",
      "           Superlotto 6/49        13\n",
      "2015       2D Lotto 2PM        64166\n",
      "           2D Lotto 5PM        62647\n",
      "           2D Lotto 9PM       159533\n",
      "           3D Lotto 2PM       197800\n",
      "           3D Lotto 5PM       199862\n",
      "           3D Lotto 9PM       296483\n",
      "           4D Lotto             4815\n",
      "           6D Lotto               24\n",
      "           Grand Lotto 6/55        8\n",
      "           Lotto 6/42             17\n",
      "           Megalotto 6/45         23\n",
      "           Superlotto 6/49        11\n",
      "           Ultra Lotto 6/58        2\n",
      "2016       2D Lotto 2PM        72223\n",
      "           2D Lotto 5PM        67641\n",
      "           2D Lotto 9PM       169528\n",
      "           3D Lotto 2PM       208862\n",
      "           3D Lotto 5PM       199072\n",
      "           3D Lotto 9PM       295504\n",
      "           4D Lotto             4758\n",
      "           6D Lotto               13\n",
      "           Grand Lotto 6/55        5\n",
      "           Lotto 6/42             23\n",
      "           Megalotto 6/45         13\n",
      "           Superlotto 6/49         8\n",
      "           Ultra Lotto 6/58        3\n",
      "2017       2D Lotto 2PM        80318\n",
      "           2D Lotto 5PM        78142\n",
      "           2D Lotto 9PM       178844\n",
      "           3D Lotto 2PM       248468\n",
      "           3D Lotto 5PM       224538\n",
      "           3D Lotto 9PM       339905\n",
      "           4D Lotto             6081\n",
      "           6D Lotto               23\n",
      "           Grand Lotto 6/55       12\n",
      "           Lotto 6/42             25\n",
      "           Megalotto 6/45         15\n",
      "           Superlotto 6/49        12\n",
      "           Ultra Lotto 6/58        5\n",
      "2018       2D Lotto 2PM        68297\n",
      "           2D Lotto 5PM        68886\n",
      "           2D Lotto 9PM       159324\n",
      "           3D Lotto 2PM       162299\n",
      "           3D Lotto 5PM       168608\n",
      "           3D Lotto 9PM       239402\n",
      "           4D Lotto             4631\n",
      "           6D Lotto               21\n",
      "           Grand Lotto 6/55        8\n",
      "           Lotto 6/42             21\n",
      "           Megalotto 6/45         15\n",
      "           Superlotto 6/49        12\n",
      "           Ultra Lotto 6/58        5\n",
      "2019       2D Lotto 2PM        59929\n",
      "           2D Lotto 5PM        59666\n",
      "           2D Lotto 9PM       137171\n",
      "           3D Lotto 2PM       117018\n",
      "           3D Lotto 5PM       107266\n",
      "           3D Lotto 9PM       167027\n",
      "           4D Lotto             4674\n",
      "           6D Lotto               15\n",
      "           Grand Lotto 6/55        4\n",
      "           Lotto 6/42             14\n",
      "           Megalotto 6/45         16\n",
      "           Superlotto 6/49         9\n",
      "           Ultra Lotto 6/58        5\n",
      "2020       2D Lotto 2PM        32601\n",
      "           2D Lotto 5PM        28214\n",
      "           2D Lotto 9PM        63929\n",
      "           3D Lotto 2PM        59555\n",
      "           3D Lotto 5PM        46715\n",
      "           3D Lotto 9PM        79115\n",
      "           4D Lotto              891\n",
      "           6D Lotto               13\n",
      "           Grand Lotto 6/55        3\n",
      "           Lotto 6/42              8\n",
      "           Megalotto 6/45          7\n",
      "           Superlotto 6/49         2\n",
      "           Ultra Lotto 6/58        1\n",
      "2021       2D Lotto 2PM        56202\n",
      "           2D Lotto 5PM        41663\n",
      "           2D Lotto 9PM        99191\n",
      "           3D Lotto 2PM        89397\n",
      "           3D Lotto 5PM        63535\n",
      "           3D Lotto 9PM       107799\n",
      "           4D Lotto             3084\n",
      "           6D Lotto               21\n",
      "           Grand Lotto 6/55        5\n",
      "           Lotto 6/42             23\n",
      "           Megalotto 6/45         13\n",
      "           Superlotto 6/49         9\n",
      "           Ultra Lotto 6/58        6\n",
      "2022       2D Lotto 2PM        76275\n",
      "           2D Lotto 5PM        59416\n",
      "           2D Lotto 9PM       132952\n",
      "           3D Lotto 2PM       115513\n",
      "           3D Lotto 5PM        82031\n",
      "           3D Lotto 9PM       147497\n",
      "           4D Lotto             4305\n",
      "           6D Lotto               33\n",
      "           Grand Lotto 6/55      438\n",
      "           Lotto 6/42             30\n",
      "           Megalotto 6/45         20\n",
      "           Superlotto 6/49        11\n",
      "           Ultra Lotto 6/58        7\n",
      "2023       2D Lotto 2PM        91821\n",
      "           2D Lotto 5PM        68203\n",
      "           2D Lotto 9PM       156316\n",
      "           3D Lotto 2PM       126981\n",
      "           3D Lotto 5PM        95783\n",
      "           3D Lotto 9PM       174011\n",
      "           4D Lotto             4622\n",
      "           6D Lotto               50\n",
      "           Grand Lotto 6/55       15\n",
      "           Lotto 6/42             25\n",
      "           Megalotto 6/45         25\n",
      "           Superlotto 6/49        18\n",
      "           Ultra Lotto 6/58        8\n",
      "2024       2D Lotto 2PM        36903\n",
      "           2D Lotto 5PM        21929\n",
      "           2D Lotto 9PM        52247\n",
      "           3D Lotto 2PM        35868\n",
      "           3D Lotto 5PM        25907\n",
      "           3D Lotto 9PM        47423\n",
      "           4D Lotto             1480\n",
      "           6D Lotto               10\n",
      "           Grand Lotto 6/55        2\n",
      "           Lotto 6/42             15\n",
      "           Megalotto 6/45          9\n",
      "           Superlotto 6/49         4\n",
      "           Ultra Lotto 6/58        1\n",
      "Name: WINNERS, dtype: float64\n"
     ]
    }
   ],
   "source": [
    "# Winner per year\n",
    "df1 = df.groupby([df[\"DRAW DATE\"].dt.year, df['LOTTO GAME']])['WINNERS'].sum()\n",
    "# Printing all results\n",
    "with pd.option_context('display.max_rows', None, 'display.max_columns', None):  \n",
    "    print(df1)"
   ]
  },
  {
   "cell_type": "code",
   "execution_count": 35,
   "id": "d90ec131-051c-4eef-9bdb-1738a6c3fde7",
   "metadata": {},
   "outputs": [
    {
     "data": {
      "text/plain": [
       "<Axes: xlabel='LOTTO GAME', ylabel='WINNERS'>"
      ]
     },
     "execution_count": 35,
     "metadata": {},
     "output_type": "execute_result"
    },
    {
     "data": {
      "image/png": "[encoded data removed]",
      "text/plain": [
       "<Figure size 640x480 with 1 Axes>"
      ]
     },
     "metadata": {},
     "output_type": "display_data"
    }
   ],
   "source": [
    "# Plotting data (excluding 2D/3D/4D Lotto) \n",
    "\n",
    "# Reshaping grouped data\n",
    "df2 = df1.reset_index()\n",
    "# Source: https://stackoverflow.com/questions/53811565/plotting-pandas-dataframe-from-pivot\n",
    "excludeList = ['2D Lotto 2PM', '2D Lotto 5PM', '2D Lotto 9PM', '3D Lotto 2PM', '3D Lotto 5PM', '3D Lotto 9PM', '4D Lotto', '6D Lotto']\n",
    "df2 = df2[df2['LOTTO GAME'].isin(excludeList) == False]\n",
    "df2 = df2.pivot(index='DRAW DATE', columns='LOTTO GAME', values='WINNERS')\n",
    "# df2.plot();\n",
    "\n",
    "df2.T.plot(kind='bar', ylabel='WINNERS')"
   ]
  },
  {
   "cell_type": "markdown",
   "id": "c7ced195-98c0-48ab-b333-ad9987fcb51c",
   "metadata": {},
   "source": [
    "It can be observed that there is an anomaly in the Grand Lotto 6/55 during 2022 with an observed 433 winners in one draw. The pattern of the said draw contains multiples of 9 (09-45-36-27-18-54) which is said by PCSO to be a common combination among betters.\n",
    "\n",
    "SOURCE: https://www.rappler.com/nation/pcso-says-grand-lotto-winners-october-1-2022-loyal-numbers/"
   ]
  },
  {
   "cell_type": "code",
   "execution_count": 37,
   "id": "5af5f65f-c8d9-4a30-8df9-6f89f28ab4b4",
   "metadata": {},
   "outputs": [
    {
     "data": {
      "text/plain": [
       "<Axes: xlabel='LOTTO GAME', ylabel='WINNERS'>"
      ]
     },
     "execution_count": 37,
     "metadata": {},
     "output_type": "execute_result"
    },
    {
     "data": {
      "image/png": "[encoded data removed]",
      "text/plain": [
       "<Figure size 640x480 with 1 Axes>"
      ]
     },
     "metadata": {},
     "output_type": "display_data"
    }
   ],
   "source": [
    "# Dropping 2022 data and then plotting (for magnification of data)\n",
    "\n",
    "df2 = df2.drop(index = 2022, errors='ignore')\n",
    "df2.T.plot(kind='bar', ylabel='WINNERS')"
   ]
  },
  {
   "cell_type": "markdown",
   "id": "b8a61b4e-3073-4450-826c-c30b83e96a1b",
   "metadata": {},
   "source": [
    "The plot above shows the data after removing year 2022. Trend of winners is expected, where lotto types with greater denominator have less winners. There is also a notable observed drop in winners for all types in 2020, which could be due to the pandemic lockdowns so it is difficult to participate. "
   ]
  },
  {
   "cell_type": "markdown",
   "id": "e90fdc9e-fabf-46aa-a5f0-338108562839",
   "metadata": {},
   "source": [
    "### **Q6: Which month has the most number of winners? (6/55)**"
   ]
  },
  {
   "cell_type": "code",
   "execution_count": 40,
   "id": "62c5eecc-bf1a-461f-8ded-734b13e0f17a",
   "metadata": {},
   "outputs": [
    {
     "data": {
      "image/png": "[encoded data removed]",
      "text/plain": [
       "<Figure size 640x480 with 1 Axes>"
      ]
     },
     "metadata": {},
     "output_type": "display_data"
    }
   ],
   "source": [
    "# Winner per month\n",
    "df1 = df.groupby([df[\"DRAW DATE\"].dt.month, df['LOTTO GAME']])['WINNERS'].sum()\n",
    "\n",
    "# Plotting data (excluding 2D/3D/4D Lotto) \n",
    "# Reshaping grouped data\n",
    "df2 = df1.reset_index()\n",
    "# Source: https://stackoverflow.com/questions/53811565/plotting-pandas-dataframe-from-pivot\n",
    "excludeList = ['2D Lotto 2PM', '2D Lotto 5PM', '2D Lotto 9PM', '3D Lotto 2PM', '3D Lotto 5PM', '3D Lotto 9PM', '4D Lotto', '6D Lotto']\n",
    "df2 = df2[df2['LOTTO GAME'].isin(excludeList) == False]\n",
    "df2 = df2.pivot(index='DRAW DATE', columns='LOTTO GAME', values='WINNERS')\n",
    "\n",
    "# Dropping October data - which contains the anomaly draw\n",
    "df2 = df2.drop(index = 10, errors='ignore')\n",
    "df2.T.plot(kind='bar', ylabel='WINNERS');"
   ]
  },
  {
   "cell_type": "markdown",
   "id": "7290db8f",
   "metadata": {},
   "source": [
    "The implication of a looking for a monthly pattern is that one can hypothesize that there are certain months where there are more people placing bets (to which we can assume there are proportionally more winners). This hypothesis can be confirm using the actual data from PCSO if available.\n",
    "\n",
    "Excluding October (containing the anomaly 433 winner draw), from the plot above there is no common pattern / trend for the lottery types if we looked at the aggregated winner per month. "
   ]
  }
 ],
 "metadata": {
  "kernelspec": {
   "display_name": "Python 3 (ipykernel)",
   "language": "python",
   "name": "python3"
  },
  "language_info": {
   "codemirror_mode": {
    "name": "ipython",
    "version": 3
   },
   "file_extension": ".py",
   "mimetype": "text/x-python",
   "name": "python",
   "nbconvert_exporter": "python",
   "pygments_lexer": "ipython3",
   "version": "3.10.9"
  }
 },
 "nbformat": 4,
 "nbformat_minor": 5
}
